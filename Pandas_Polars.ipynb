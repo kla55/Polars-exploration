{
 "cells": [
  {
   "cell_type": "code",
   "execution_count": 1,
   "id": "d88b7da6",
   "metadata": {},
   "outputs": [],
   "source": [
    "from datetime import datetime\n",
    "import numpy as np\n",
    "import polars as pl\n",
    "from pathlib import Path\n",
    "from polars import col, lit\n",
    "import pandas as pd\n",
    "import time\n",
    "from pandas.io.common import get_handle"
   ]
  },
  {
   "cell_type": "code",
   "execution_count": 2,
   "id": "6a9ed8bf",
   "metadata": {},
   "outputs": [
    {
     "data": {
      "text/plain": [
       "'0.14.28'"
      ]
     },
     "execution_count": 2,
     "metadata": {},
     "output_type": "execute_result"
    }
   ],
   "source": [
    "pl.__version__"
   ]
  },
  {
   "cell_type": "code",
   "execution_count": 3,
   "id": "1ba5f597",
   "metadata": {},
   "outputs": [
    {
     "data": {
      "text/plain": [
       "'1.5.2'"
      ]
     },
     "execution_count": 3,
     "metadata": {},
     "output_type": "execute_result"
    }
   ],
   "source": [
    "pd.__version__"
   ]
  },
  {
   "cell_type": "code",
   "execution_count": 4,
   "id": "93c4cc55",
   "metadata": {},
   "outputs": [],
   "source": [
    "# Download a huge csv as a test. Takes a while and only needed once...\n",
    "big_csv = Path(\"./big.csv\")\n",
    "csv_url = \"http://sdm.lbl.gov/fastbit/data/star2002-full.csv.gz\"\n",
    "\n",
    "# Obtains the path for big_csv, this file of moderate size 15,857,624 rows and 16 columns\n",
    "if not big_csv.exists():\n",
    "    with get_handle(csv_url, compression=\"gzip\", mode=\"r\") as fh_in, open(big_csv, \"bw\") as fh_out:\n",
    "        fh_out.write(fh_in.handle.buffer.read())"
   ]
  },
  {
   "cell_type": "markdown",
   "id": "b5f7a42d",
   "metadata": {},
   "source": [
    "# Load Data "
   ]
  },
  {
   "cell_type": "code",
   "execution_count": 5,
   "id": "193b13df",
   "metadata": {},
   "outputs": [
    {
     "name": "stdout",
     "output_type": "stream",
     "text": [
      "Pandas Loading Time = 36.4776177406311\n"
     ]
    }
   ],
   "source": [
    "s = time.time()\n",
    "df_pandas = pd.read_csv(big_csv)\n",
    "e = time.time()\n",
    "pd_time = e - s\n",
    "print(\"Pandas Loading Time = {}\".format(pd_time))"
   ]
  },
  {
   "cell_type": "code",
   "execution_count": 6,
   "id": "cc7ea116",
   "metadata": {},
   "outputs": [
    {
     "name": "stdout",
     "output_type": "stream",
     "text": [
      "PyPolars Loading Time = 7.07993221282959\n"
     ]
    }
   ],
   "source": [
    "s = time.time()\n",
    "df_pypolars = pl.read_csv(big_csv)\n",
    "e = time.time()\n",
    "pl_time = e - s \n",
    "print(\"PyPolars Loading Time = {}\".format(pl_time))"
   ]
  },
  {
   "cell_type": "markdown",
   "id": "f2d24ed1",
   "metadata": {},
   "source": [
    "# Eager "
   ]
  },
  {
   "cell_type": "markdown",
   "id": "b481b628",
   "metadata": {},
   "source": [
    "In terms of eager eval we are performing a filter and selection while tracking time "
   ]
  },
  {
   "cell_type": "code",
   "execution_count": 7,
   "id": "4b99a99e",
   "metadata": {},
   "outputs": [
    {
     "name": "stdout",
     "output_type": "stream",
     "text": [
      "shape: (5, 1)\n",
      "┌──────────┐\n",
      "│ column_9 │\n",
      "│ ---      │\n",
      "│ i64      │\n",
      "╞══════════╡\n",
      "│ 654      │\n",
      "├╌╌╌╌╌╌╌╌╌╌┤\n",
      "│ 61       │\n",
      "├╌╌╌╌╌╌╌╌╌╌┤\n",
      "│ 7        │\n",
      "├╌╌╌╌╌╌╌╌╌╌┤\n",
      "│ 27       │\n",
      "├╌╌╌╌╌╌╌╌╌╌┤\n",
      "│ 1        │\n",
      "└──────────┘\n",
      "PyPolars Time = 10.59482717514038\n"
     ]
    }
   ],
   "source": [
    "# Operation we are performing:\n",
    "# filter for column 1 == 1 and then selecting col 9 vals\n",
    "\n",
    "s = time.time()\n",
    "edf_pl = pl.read_csv(str(big_csv), has_header=False)\n",
    "print(edf_pl.filter(col(\"column_1\") == 1).select([\"column_9\"]).head())\n",
    "e = time.time()\n",
    "pl_time = e - s \n",
    "print(\"PyPolars Time = {}\".format(pl_time))"
   ]
  },
  {
   "cell_type": "code",
   "execution_count": 8,
   "id": "7e5380d1",
   "metadata": {},
   "outputs": [
    {
     "name": "stdout",
     "output_type": "stream",
     "text": [
      "      8\n",
      "0   654\n",
      "1    61\n",
      "2     7\n",
      "6    27\n",
      "10    1\n",
      "Pandas Time = 51.340972900390625\n"
     ]
    }
   ],
   "source": [
    "df_pandas = pd.read_csv(big_csv)\n",
    "s = time.time()\n",
    "edf_pd = pd.read_csv((big_csv), header=None).reset_index()\n",
    "print(edf_pd[edf_pd[0] == 1][[8]].head())\n",
    "e = time.time()\n",
    "pd_time = e - s \n",
    "print(\"Pandas Time = {}\".format(pd_time))"
   ]
  },
  {
   "cell_type": "markdown",
   "id": "777bd1f9",
   "metadata": {},
   "source": [
    "Two comments: \n",
    "Polars is cleaner - uses col to refer to the column of the current dataframe is much cleaner\n",
    "It's not possible to switch later from eager to lazy execution"
   ]
  },
  {
   "cell_type": "markdown",
   "id": "52a858b3",
   "metadata": {},
   "source": [
    "# Lazy"
   ]
  },
  {
   "cell_type": "markdown",
   "id": "223a7587",
   "metadata": {},
   "source": [
    "Just switching read_csv to scan_csv is all it needs to go from eager to lazy in this example. collect or fetch is then used to trigger the execution.\n",
    "\n",
    "The key advantage of Polars over Pandas is its support for lazy evaluation. Lazy evaluation allows the library to analyze and optimize all of the queries before it starts executing any of the queries. By doing so, the library can save a lot of time by reducing the amount of work processing redundant operations.\n",
    "\n",
    "The scan_csv() method delays execution until the collect() method is called. It analyzes all the queries right up until the collect() method and tries to optimize the operation. The following code snippet shows how to use the scan_csv() method together with the collect() method:"
   ]
  },
  {
   "cell_type": "code",
   "execution_count": 20,
   "id": "cd0f2119",
   "metadata": {},
   "outputs": [],
   "source": [
    "ldf = (pl.scan_csv(str(big_csv), has_header=False)\n",
    "        .filter(col(\"column_1\") == 1)\n",
    "        .select([\"column_9\"]))"
   ]
  },
  {
   "cell_type": "code",
   "execution_count": 21,
   "id": "93753b94",
   "metadata": {
    "scrolled": true
   },
   "outputs": [
    {
     "data": {
      "image/svg+xml": [
       "<svg xmlns=\"http://www.w3.org/2000/svg\" xmlns:xlink=\"http://www.w3.org/1999/xlink\" width=\"198pt\" height=\"133pt\" viewBox=\"0.00 0.00 198.00 133.00\">\n",
       "<g id=\"graph0\" class=\"graph\" transform=\"scale(1 1) rotate(0) translate(4 129)\">\n",
       "<title>polars_query</title>\n",
       "<polygon fill=\"white\" stroke=\"transparent\" points=\"-4,4 -4,-129 194,-129 194,4 -4,4\"/>\n",
       "<!-- FAST_PROJECT: [column_9] [(0, 0)] -->\n",
       "<g id=\"node1\" class=\"node\">\n",
       "<title>FAST_PROJECT: [column_9] [(0, 0)]</title>\n",
       "<polygon fill=\"none\" stroke=\"black\" points=\"186.5,-125 3.5,-125 3.5,-89 186.5,-89 186.5,-125\"/>\n",
       "<text text-anchor=\"middle\" x=\"95\" y=\"-103.3\" font-family=\"Times,serif\" font-size=\"14.00\">FAST_PROJECT: [column_9]</text>\n",
       "</g>\n",
       "<!-- CSV SCAN big.csv;\n",
       "π 2/16;\n",
       "σ (col(&quot;column_1&quot;)) == (1i6...; [(0, 1)] -->\n",
       "<g id=\"node2\" class=\"node\">\n",
       "<title>CSV SCAN big.csv;\n",
       "π 2/16;\n",
       "σ (col(&quot;column_1&quot;)) == (1i6...; [(0, 1)]</title>\n",
       "<polygon fill=\"none\" stroke=\"black\" points=\"190,-53 0,-53 0,0 190,0 190,-53\"/>\n",
       "<text text-anchor=\"middle\" x=\"95\" y=\"-37.8\" font-family=\"Times,serif\" font-size=\"14.00\">CSV SCAN big.csv;</text>\n",
       "<text text-anchor=\"middle\" x=\"95\" y=\"-22.8\" font-family=\"Times,serif\" font-size=\"14.00\">π 2/16;</text>\n",
       "<text text-anchor=\"middle\" x=\"95\" y=\"-7.8\" font-family=\"Times,serif\" font-size=\"14.00\">σ (col(&quot;column_1&quot;)) == (1i6...;</text>\n",
       "</g>\n",
       "<!-- FAST_PROJECT: [column_9] [(0, 0)]&#45;&#45;CSV SCAN big.csv;\n",
       "π 2/16;\n",
       "σ (col(&quot;column_1&quot;)) == (1i6...; [(0, 1)] -->\n",
       "<g id=\"edge1\" class=\"edge\">\n",
       "<title>FAST_PROJECT: [column_9] [(0, 0)]--CSV SCAN big.csv;\n",
       "π 2/16;\n",
       "σ (col(&quot;column_1&quot;)) == (1i6...; [(0, 1)]</title>\n",
       "<path fill=\"none\" stroke=\"black\" d=\"M95,-88.97C95,-78.51 95,-64.9 95,-53.16\"/>\n",
       "</g>\n",
       "</g>\n",
       "</svg>"
      ],
      "text/plain": [
       "<IPython.core.display.SVG object>"
      ]
     },
     "metadata": {},
     "output_type": "display_data"
    }
   ],
   "source": [
    "ldf.show_graph(optimized=True)"
   ]
  },
  {
   "cell_type": "code",
   "execution_count": 32,
   "id": "b4cea665",
   "metadata": {},
   "outputs": [
    {
     "data": {
      "text/html": [
       "<div>\n",
       "<style scoped>\n",
       "    .dataframe tbody tr th:only-of-type {\n",
       "        vertical-align: middle;\n",
       "    }\n",
       "\n",
       "    .dataframe tbody tr th {\n",
       "        vertical-align: top;\n",
       "    }\n",
       "\n",
       "    .dataframe thead th {\n",
       "        text-align: right;\n",
       "    }\n",
       "\n",
       "    .dataframe td {\n",
       "        white-space: pre;\n",
       "    }\n",
       "\n",
       "    .dataframe td {\n",
       "        padding-top: 0;\n",
       "    }\n",
       "\n",
       "    .dataframe td {\n",
       "        padding-bottom: 0;\n",
       "    }\n",
       "\n",
       "    .dataframe td {\n",
       "        line-height: 95%;\n",
       "    }\n",
       "</style>\n",
       "<table border=\"1\" class=\"dataframe\" >\n",
       "<small>shape: (5, 1)</small>\n",
       "<thead>\n",
       "<tr>\n",
       "<th>\n",
       "column_9\n",
       "</th>\n",
       "</tr>\n",
       "<tr>\n",
       "<td>\n",
       "i64\n",
       "</td>\n",
       "</tr>\n",
       "</thead>\n",
       "<tbody>\n",
       "<tr>\n",
       "<td>\n",
       "654\n",
       "</td>\n",
       "</tr>\n",
       "<tr>\n",
       "<td>\n",
       "61\n",
       "</td>\n",
       "</tr>\n",
       "<tr>\n",
       "<td>\n",
       "7\n",
       "</td>\n",
       "</tr>\n",
       "<tr>\n",
       "<td>\n",
       "27\n",
       "</td>\n",
       "</tr>\n",
       "<tr>\n",
       "<td>\n",
       "1\n",
       "</td>\n",
       "</tr>\n",
       "</tbody>\n",
       "</table>\n",
       "</div>"
      ],
      "text/plain": [
       "shape: (5, 1)\n",
       "┌──────────┐\n",
       "│ column_9 │\n",
       "│ ---      │\n",
       "│ i64      │\n",
       "╞══════════╡\n",
       "│ 654      │\n",
       "├╌╌╌╌╌╌╌╌╌╌┤\n",
       "│ 61       │\n",
       "├╌╌╌╌╌╌╌╌╌╌┤\n",
       "│ 7        │\n",
       "├╌╌╌╌╌╌╌╌╌╌┤\n",
       "│ 27       │\n",
       "├╌╌╌╌╌╌╌╌╌╌┤\n",
       "│ 1        │\n",
       "└──────────┘"
      ]
     },
     "execution_count": 32,
     "metadata": {},
     "output_type": "execute_result"
    }
   ],
   "source": [
    "ldf.select([\"column_9\"]).collect().head()"
   ]
  },
  {
   "cell_type": "markdown",
   "id": "670cc080",
   "metadata": {},
   "source": [
    "Pandas style fails in lazy mode:"
   ]
  },
  {
   "cell_type": "code",
   "execution_count": 26,
   "id": "730c234e",
   "metadata": {},
   "outputs": [
    {
     "ename": "TypeError",
     "evalue": "'LazyFrame' object is not subscriptable (aside from slicing). Use 'select()' or 'filter()' instead.",
     "output_type": "error",
     "traceback": [
      "\u001b[0;31m---------------------------------------------------------------------------\u001b[0m",
      "\u001b[0;31mTypeError\u001b[0m                                 Traceback (most recent call last)",
      "\u001b[0;32m<ipython-input-26-f9120bc342be>\u001b[0m in \u001b[0;36m<module>\u001b[0;34m\u001b[0m\n\u001b[1;32m      1\u001b[0m \u001b[0mldf_pd\u001b[0m \u001b[0;34m=\u001b[0m \u001b[0mpl\u001b[0m\u001b[0;34m.\u001b[0m\u001b[0mscan_csv\u001b[0m\u001b[0;34m(\u001b[0m\u001b[0mstr\u001b[0m\u001b[0;34m(\u001b[0m\u001b[0mbig_csv\u001b[0m\u001b[0;34m)\u001b[0m\u001b[0;34m,\u001b[0m \u001b[0mhas_header\u001b[0m\u001b[0;34m=\u001b[0m\u001b[0;32mFalse\u001b[0m\u001b[0;34m)\u001b[0m\u001b[0;34m\u001b[0m\u001b[0;34m\u001b[0m\u001b[0m\n\u001b[0;32m----> 2\u001b[0;31m \u001b[0mldf_pd\u001b[0m\u001b[0;34m[\u001b[0m\u001b[0mldf_pd\u001b[0m\u001b[0;34m[\u001b[0m\u001b[0;36m0\u001b[0m\u001b[0;34m]\u001b[0m \u001b[0;34m==\u001b[0m \u001b[0;36m1\u001b[0m\u001b[0;34m]\u001b[0m\u001b[0;34m[\u001b[0m\u001b[0;34m[\u001b[0m\u001b[0;36m8\u001b[0m\u001b[0;34m]\u001b[0m\u001b[0;34m]\u001b[0m\u001b[0;34m.\u001b[0m\u001b[0mhead\u001b[0m\u001b[0;34m(\u001b[0m\u001b[0;34m)\u001b[0m\u001b[0;34m\u001b[0m\u001b[0;34m\u001b[0m\u001b[0m\n\u001b[0m",
      "\u001b[0;32m~/anaconda3/lib/python3.8/site-packages/polars/internals/lazyframe/frame.py\u001b[0m in \u001b[0;36m__getitem__\u001b[0;34m(self, item)\u001b[0m\n\u001b[1;32m    450\u001b[0m     \u001b[0;32mdef\u001b[0m \u001b[0m__getitem__\u001b[0m\u001b[0;34m(\u001b[0m\u001b[0mself\u001b[0m\u001b[0;34m:\u001b[0m \u001b[0mLDF\u001b[0m\u001b[0;34m,\u001b[0m \u001b[0mitem\u001b[0m\u001b[0;34m:\u001b[0m \u001b[0mint\u001b[0m \u001b[0;34m|\u001b[0m \u001b[0mrange\u001b[0m \u001b[0;34m|\u001b[0m \u001b[0mslice\u001b[0m\u001b[0;34m)\u001b[0m \u001b[0;34m->\u001b[0m \u001b[0mLazyFrame\u001b[0m\u001b[0;34m:\u001b[0m\u001b[0;34m\u001b[0m\u001b[0;34m\u001b[0m\u001b[0m\n\u001b[1;32m    451\u001b[0m         \u001b[0;32mif\u001b[0m \u001b[0;32mnot\u001b[0m \u001b[0misinstance\u001b[0m\u001b[0;34m(\u001b[0m\u001b[0mitem\u001b[0m\u001b[0;34m,\u001b[0m \u001b[0mslice\u001b[0m\u001b[0;34m)\u001b[0m\u001b[0;34m:\u001b[0m\u001b[0;34m\u001b[0m\u001b[0;34m\u001b[0m\u001b[0m\n\u001b[0;32m--> 452\u001b[0;31m             raise TypeError(\n\u001b[0m\u001b[1;32m    453\u001b[0m                 \u001b[0;34m\"'LazyFrame' object is not subscriptable (aside from slicing). Use\"\u001b[0m\u001b[0;34m\u001b[0m\u001b[0;34m\u001b[0m\u001b[0m\n\u001b[1;32m    454\u001b[0m                 \u001b[0;34m\" 'select()' or 'filter()' instead.\"\u001b[0m\u001b[0;34m\u001b[0m\u001b[0;34m\u001b[0m\u001b[0m\n",
      "\u001b[0;31mTypeError\u001b[0m: 'LazyFrame' object is not subscriptable (aside from slicing). Use 'select()' or 'filter()' instead."
     ]
    }
   ],
   "source": [
    "ldf_pd = pl.scan_csv(str(big_csv), has_header=False)\n",
    "ldf_pd[ldf_pd[0] == 1][[8]].head()"
   ]
  },
  {
   "cell_type": "markdown",
   "id": "7d2f2421",
   "metadata": {},
   "source": [
    "# Indexing"
   ]
  },
  {
   "cell_type": "markdown",
   "id": "a23ff45d",
   "metadata": {},
   "source": [
    "Slicing and indexing in Polars works with the help of the subscript syntax similar to Numpy, i.e. df[1] or df[1, 2]. Some simple rules apply:\n",
    "<ul>\n",
    "<li>indexing by a single dimension</li>\n",
    "<ul>\n",
    "<li>returns one or several rows if indexed by an integer, e.g. df[42], df[42:],</li>\n",
    "<li>returns one or several columns if index by a string, e.g. , df[\"my_col\"], df[[\"col1\", \"col2]],\n",
    "</ul>\n",
    "</ul>\n",
    "<ul>    \n",
    "<li>indexing by two dimensions</li>\n",
    "\n",
    "<ul>\n",
    "<li>returns the row(s) indexed by an integer in the first dimension and the column(s) indexed by integer or string in the second dimension, e.g. df[69, 42] or df[69, \"col_42\"]</li>\n",
    "</ul>\n",
    "    \n",
    "In case of integers also slices, e.g. 1:, are possible."
   ]
  },
  {
   "cell_type": "code",
   "execution_count": 9,
   "id": "e1156ead",
   "metadata": {},
   "outputs": [],
   "source": [
    "edf = edf_pl"
   ]
  },
  {
   "cell_type": "code",
   "execution_count": 10,
   "id": "f168f451",
   "metadata": {},
   "outputs": [
    {
     "data": {
      "text/plain": [
       "shape: (10,)\n",
       "Series: 'column_2' [i64]\n",
       "[\n",
       "\t1613423\n",
       "\t1613423\n",
       "\t1613423\n",
       "\t1613423\n",
       "\t1613423\n",
       "\t1613423\n",
       "\t1613423\n",
       "\t1613423\n",
       "\t1613423\n",
       "\t1613423\n",
       "]"
      ]
     },
     "execution_count": 10,
     "metadata": {},
     "output_type": "execute_result"
    }
   ],
   "source": [
    "edf['column_2'].head()"
   ]
  },
  {
   "cell_type": "code",
   "execution_count": 11,
   "id": "635f889c",
   "metadata": {},
   "outputs": [
    {
     "data": {
      "text/html": [
       "<div>\n",
       "<style scoped>\n",
       "    .dataframe tbody tr th:only-of-type {\n",
       "        vertical-align: middle;\n",
       "    }\n",
       "\n",
       "    .dataframe tbody tr th {\n",
       "        vertical-align: top;\n",
       "    }\n",
       "\n",
       "    .dataframe thead th {\n",
       "        text-align: right;\n",
       "    }\n",
       "\n",
       "    .dataframe td {\n",
       "        white-space: pre;\n",
       "    }\n",
       "\n",
       "    .dataframe td {\n",
       "        padding-top: 0;\n",
       "    }\n",
       "\n",
       "    .dataframe td {\n",
       "        padding-bottom: 0;\n",
       "    }\n",
       "\n",
       "    .dataframe td {\n",
       "        line-height: 95%;\n",
       "    }\n",
       "</style>\n",
       "<table border=\"1\" class=\"dataframe\" >\n",
       "<small>shape: (1, 16)</small>\n",
       "<thead>\n",
       "<tr>\n",
       "<th>\n",
       "column_1\n",
       "</th>\n",
       "<th>\n",
       "column_2\n",
       "</th>\n",
       "<th>\n",
       "column_3\n",
       "</th>\n",
       "<th>\n",
       "column_4\n",
       "</th>\n",
       "<th>\n",
       "column_5\n",
       "</th>\n",
       "<th>\n",
       "column_6\n",
       "</th>\n",
       "<th>\n",
       "column_7\n",
       "</th>\n",
       "<th>\n",
       "column_8\n",
       "</th>\n",
       "<th>\n",
       "column_9\n",
       "</th>\n",
       "<th>\n",
       "column_10\n",
       "</th>\n",
       "<th>\n",
       "column_11\n",
       "</th>\n",
       "<th>\n",
       "column_12\n",
       "</th>\n",
       "<th>\n",
       "column_13\n",
       "</th>\n",
       "<th>\n",
       "column_14\n",
       "</th>\n",
       "<th>\n",
       "column_15\n",
       "</th>\n",
       "<th>\n",
       "column_16\n",
       "</th>\n",
       "</tr>\n",
       "<tr>\n",
       "<td>\n",
       "i64\n",
       "</td>\n",
       "<td>\n",
       "i64\n",
       "</td>\n",
       "<td>\n",
       "i64\n",
       "</td>\n",
       "<td>\n",
       "f64\n",
       "</td>\n",
       "<td>\n",
       "i64\n",
       "</td>\n",
       "<td>\n",
       "i64\n",
       "</td>\n",
       "<td>\n",
       "i64\n",
       "</td>\n",
       "<td>\n",
       "i64\n",
       "</td>\n",
       "<td>\n",
       "i64\n",
       "</td>\n",
       "<td>\n",
       "i64\n",
       "</td>\n",
       "<td>\n",
       "f64\n",
       "</td>\n",
       "<td>\n",
       "f64\n",
       "</td>\n",
       "<td>\n",
       "i64\n",
       "</td>\n",
       "<td>\n",
       "f64\n",
       "</td>\n",
       "<td>\n",
       "f64\n",
       "</td>\n",
       "<td>\n",
       "f64\n",
       "</td>\n",
       "</tr>\n",
       "</thead>\n",
       "<tbody>\n",
       "<tr>\n",
       "<td>\n",
       "1\n",
       "</td>\n",
       "<td>\n",
       "1613423\n",
       "</td>\n",
       "<td>\n",
       "808\n",
       "</td>\n",
       "<td>\n",
       "2.0011e7\n",
       "</td>\n",
       "<td>\n",
       "1613424\n",
       "</td>\n",
       "<td>\n",
       "886\n",
       "</td>\n",
       "<td>\n",
       "0\n",
       "</td>\n",
       "<td>\n",
       "0\n",
       "</td>\n",
       "<td>\n",
       "61\n",
       "</td>\n",
       "<td>\n",
       "371\n",
       "</td>\n",
       "<td>\n",
       "2.0011e7\n",
       "</td>\n",
       "<td>\n",
       "23.326479\n",
       "</td>\n",
       "<td>\n",
       "2288071\n",
       "</td>\n",
       "<td>\n",
       "-0.24733\n",
       "</td>\n",
       "<td>\n",
       "0.455916\n",
       "</td>\n",
       "<td>\n",
       "57.810596\n",
       "</td>\n",
       "</tr>\n",
       "</tbody>\n",
       "</table>\n",
       "</div>"
      ],
      "text/plain": [
       "shape: (1, 16)\n",
       "┌────────┬────────┬────────┬────────┬─────┬─────────┬─────────┬─────────┬─────────┐\n",
       "│ column ┆ column ┆ column ┆ column ┆ ... ┆ column_ ┆ column_ ┆ column_ ┆ column_ │\n",
       "│ _1     ┆ _2     ┆ _3     ┆ _4     ┆     ┆ 13      ┆ 14      ┆ 15      ┆ 16      │\n",
       "│ ---    ┆ ---    ┆ ---    ┆ ---    ┆     ┆ ---     ┆ ---     ┆ ---     ┆ ---     │\n",
       "│ i64    ┆ i64    ┆ i64    ┆ f64    ┆     ┆ i64     ┆ f64     ┆ f64     ┆ f64     │\n",
       "╞════════╪════════╪════════╪════════╪═════╪═════════╪═════════╪═════════╪═════════╡\n",
       "│ 1      ┆ 161342 ┆ 808    ┆ 2.0011 ┆ ... ┆ 2288071 ┆ -0.2473 ┆ 0.45591 ┆ 57.8105 │\n",
       "│        ┆ 3      ┆        ┆ e7     ┆     ┆         ┆ 3       ┆ 6       ┆ 96      │\n",
       "└────────┴────────┴────────┴────────┴─────┴─────────┴─────────┴─────────┴─────────┘"
      ]
     },
     "execution_count": 11,
     "metadata": {},
     "output_type": "execute_result"
    }
   ],
   "source": [
    "edf_pl[[1]]"
   ]
  },
  {
   "cell_type": "code",
   "execution_count": 12,
   "id": "62630898",
   "metadata": {},
   "outputs": [
    {
     "data": {
      "text/plain": [
       "20011015.222604"
      ]
     },
     "execution_count": 12,
     "metadata": {},
     "output_type": "execute_result"
    }
   ],
   "source": [
    "edf[1, 3] # index by (row, column)"
   ]
  },
  {
   "cell_type": "code",
   "execution_count": 13,
   "id": "dbdd2fe5",
   "metadata": {},
   "outputs": [
    {
     "data": {
      "text/plain": [
       "20011015.222604"
      ]
     },
     "execution_count": 13,
     "metadata": {},
     "output_type": "execute_result"
    }
   ],
   "source": [
    "edf[1, \"column_4\"] # or as string"
   ]
  },
  {
   "cell_type": "code",
   "execution_count": 14,
   "id": "81d56c59",
   "metadata": {},
   "outputs": [
    {
     "data": {
      "text/html": [
       "<div>\n",
       "<style scoped>\n",
       "    .dataframe tbody tr th:only-of-type {\n",
       "        vertical-align: middle;\n",
       "    }\n",
       "\n",
       "    .dataframe tbody tr th {\n",
       "        vertical-align: top;\n",
       "    }\n",
       "\n",
       "    .dataframe thead th {\n",
       "        text-align: right;\n",
       "    }\n",
       "\n",
       "    .dataframe td {\n",
       "        white-space: pre;\n",
       "    }\n",
       "\n",
       "    .dataframe td {\n",
       "        padding-top: 0;\n",
       "    }\n",
       "\n",
       "    .dataframe td {\n",
       "        padding-bottom: 0;\n",
       "    }\n",
       "\n",
       "    .dataframe td {\n",
       "        line-height: 95%;\n",
       "    }\n",
       "</style>\n",
       "<table border=\"1\" class=\"dataframe\" >\n",
       "<small>shape: (1, 2)</small>\n",
       "<thead>\n",
       "<tr>\n",
       "<th>\n",
       "column_3\n",
       "</th>\n",
       "<th>\n",
       "column_4\n",
       "</th>\n",
       "</tr>\n",
       "<tr>\n",
       "<td>\n",
       "i64\n",
       "</td>\n",
       "<td>\n",
       "f64\n",
       "</td>\n",
       "</tr>\n",
       "</thead>\n",
       "<tbody>\n",
       "<tr>\n",
       "<td>\n",
       "808\n",
       "</td>\n",
       "<td>\n",
       "2.0011e7\n",
       "</td>\n",
       "</tr>\n",
       "</tbody>\n",
       "</table>\n",
       "</div>"
      ],
      "text/plain": [
       "shape: (1, 2)\n",
       "┌──────────┬──────────┐\n",
       "│ column_3 ┆ column_4 │\n",
       "│ ---      ┆ ---      │\n",
       "│ i64      ┆ f64      │\n",
       "╞══════════╪══════════╡\n",
       "│ 808      ┆ 2.0011e7 │\n",
       "└──────────┴──────────┘"
      ]
     },
     "execution_count": 14,
     "metadata": {},
     "output_type": "execute_result"
    }
   ],
   "source": [
    "edf[1, [2, 3]]  # index by (row, column) but returns data frame"
   ]
  },
  {
   "cell_type": "code",
   "execution_count": 15,
   "id": "e6f0e209",
   "metadata": {},
   "outputs": [
    {
     "data": {
      "text/html": [
       "<div>\n",
       "<style scoped>\n",
       "    .dataframe tbody tr th:only-of-type {\n",
       "        vertical-align: middle;\n",
       "    }\n",
       "\n",
       "    .dataframe tbody tr th {\n",
       "        vertical-align: top;\n",
       "    }\n",
       "\n",
       "    .dataframe thead th {\n",
       "        text-align: right;\n",
       "    }\n",
       "\n",
       "    .dataframe td {\n",
       "        white-space: pre;\n",
       "    }\n",
       "\n",
       "    .dataframe td {\n",
       "        padding-top: 0;\n",
       "    }\n",
       "\n",
       "    .dataframe td {\n",
       "        padding-bottom: 0;\n",
       "    }\n",
       "\n",
       "    .dataframe td {\n",
       "        line-height: 95%;\n",
       "    }\n",
       "</style>\n",
       "<table border=\"1\" class=\"dataframe\" >\n",
       "<small>shape: (3, 13)</small>\n",
       "<thead>\n",
       "<tr>\n",
       "<th>\n",
       "column_4\n",
       "</th>\n",
       "<th>\n",
       "column_5\n",
       "</th>\n",
       "<th>\n",
       "column_6\n",
       "</th>\n",
       "<th>\n",
       "column_7\n",
       "</th>\n",
       "<th>\n",
       "column_8\n",
       "</th>\n",
       "<th>\n",
       "column_9\n",
       "</th>\n",
       "<th>\n",
       "column_10\n",
       "</th>\n",
       "<th>\n",
       "column_11\n",
       "</th>\n",
       "<th>\n",
       "column_12\n",
       "</th>\n",
       "<th>\n",
       "column_13\n",
       "</th>\n",
       "<th>\n",
       "column_14\n",
       "</th>\n",
       "<th>\n",
       "column_15\n",
       "</th>\n",
       "<th>\n",
       "column_16\n",
       "</th>\n",
       "</tr>\n",
       "<tr>\n",
       "<td>\n",
       "f64\n",
       "</td>\n",
       "<td>\n",
       "i64\n",
       "</td>\n",
       "<td>\n",
       "i64\n",
       "</td>\n",
       "<td>\n",
       "i64\n",
       "</td>\n",
       "<td>\n",
       "i64\n",
       "</td>\n",
       "<td>\n",
       "i64\n",
       "</td>\n",
       "<td>\n",
       "i64\n",
       "</td>\n",
       "<td>\n",
       "f64\n",
       "</td>\n",
       "<td>\n",
       "f64\n",
       "</td>\n",
       "<td>\n",
       "i64\n",
       "</td>\n",
       "<td>\n",
       "f64\n",
       "</td>\n",
       "<td>\n",
       "f64\n",
       "</td>\n",
       "<td>\n",
       "f64\n",
       "</td>\n",
       "</tr>\n",
       "</thead>\n",
       "<tbody>\n",
       "<tr>\n",
       "<td>\n",
       "2.0011e7\n",
       "</td>\n",
       "<td>\n",
       "1613424\n",
       "</td>\n",
       "<td>\n",
       "886\n",
       "</td>\n",
       "<td>\n",
       "0\n",
       "</td>\n",
       "<td>\n",
       "0\n",
       "</td>\n",
       "<td>\n",
       "61\n",
       "</td>\n",
       "<td>\n",
       "371\n",
       "</td>\n",
       "<td>\n",
       "2.0011e7\n",
       "</td>\n",
       "<td>\n",
       "23.326479\n",
       "</td>\n",
       "<td>\n",
       "2288071\n",
       "</td>\n",
       "<td>\n",
       "-0.24733\n",
       "</td>\n",
       "<td>\n",
       "0.455916\n",
       "</td>\n",
       "<td>\n",
       "57.810596\n",
       "</td>\n",
       "</tr>\n",
       "<tr>\n",
       "<td>\n",
       "2.0011e7\n",
       "</td>\n",
       "<td>\n",
       "1613424\n",
       "</td>\n",
       "<td>\n",
       "638\n",
       "</td>\n",
       "<td>\n",
       "0\n",
       "</td>\n",
       "<td>\n",
       "0\n",
       "</td>\n",
       "<td>\n",
       "7\n",
       "</td>\n",
       "<td>\n",
       "121\n",
       "</td>\n",
       "<td>\n",
       "2.0011e7\n",
       "</td>\n",
       "<td>\n",
       "2.4442992\n",
       "</td>\n",
       "<td>\n",
       "2288071\n",
       "</td>\n",
       "<td>\n",
       "-0.390961\n",
       "</td>\n",
       "<td>\n",
       "0.589534\n",
       "</td>\n",
       "<td>\n",
       "167.75714\n",
       "</td>\n",
       "</tr>\n",
       "<tr>\n",
       "<td>\n",
       "2.0011e7\n",
       "</td>\n",
       "<td>\n",
       "1613424\n",
       "</td>\n",
       "<td>\n",
       "4259\n",
       "</td>\n",
       "<td>\n",
       "0\n",
       "</td>\n",
       "<td>\n",
       "0\n",
       "</td>\n",
       "<td>\n",
       "1024\n",
       "</td>\n",
       "<td>\n",
       "1302\n",
       "</td>\n",
       "<td>\n",
       "2.0011e7\n",
       "</td>\n",
       "<td>\n",
       "9.5218678\n",
       "</td>\n",
       "<td>\n",
       "2288071\n",
       "</td>\n",
       "<td>\n",
       "-0.290154\n",
       "</td>\n",
       "<td>\n",
       "0.446027\n",
       "</td>\n",
       "<td>\n",
       "8.6443624\n",
       "</td>\n",
       "</tr>\n",
       "</tbody>\n",
       "</table>\n",
       "</div>"
      ],
      "text/plain": [
       "shape: (3, 13)\n",
       "┌────────┬────────┬────────┬────────┬─────┬─────────┬─────────┬─────────┬─────────┐\n",
       "│ column ┆ column ┆ column ┆ column ┆ ... ┆ column_ ┆ column_ ┆ column_ ┆ column_ │\n",
       "│ _4     ┆ _5     ┆ _6     ┆ _7     ┆     ┆ 13      ┆ 14      ┆ 15      ┆ 16      │\n",
       "│ ---    ┆ ---    ┆ ---    ┆ ---    ┆     ┆ ---     ┆ ---     ┆ ---     ┆ ---     │\n",
       "│ f64    ┆ i64    ┆ i64    ┆ i64    ┆     ┆ i64     ┆ f64     ┆ f64     ┆ f64     │\n",
       "╞════════╪════════╪════════╪════════╪═════╪═════════╪═════════╪═════════╪═════════╡\n",
       "│ 2.0011 ┆ 161342 ┆ 886    ┆ 0      ┆ ... ┆ 2288071 ┆ -0.2473 ┆ 0.45591 ┆ 57.8105 │\n",
       "│ e7     ┆ 4      ┆        ┆        ┆     ┆         ┆ 3       ┆ 6       ┆ 96      │\n",
       "├╌╌╌╌╌╌╌╌┼╌╌╌╌╌╌╌╌┼╌╌╌╌╌╌╌╌┼╌╌╌╌╌╌╌╌┼╌╌╌╌╌┼╌╌╌╌╌╌╌╌╌┼╌╌╌╌╌╌╌╌╌┼╌╌╌╌╌╌╌╌╌┼╌╌╌╌╌╌╌╌╌┤\n",
       "│ 2.0011 ┆ 161342 ┆ 638    ┆ 0      ┆ ... ┆ 2288071 ┆ -0.3909 ┆ 0.58953 ┆ 167.757 │\n",
       "│ e7     ┆ 4      ┆        ┆        ┆     ┆         ┆ 61      ┆ 4       ┆ 14      │\n",
       "├╌╌╌╌╌╌╌╌┼╌╌╌╌╌╌╌╌┼╌╌╌╌╌╌╌╌┼╌╌╌╌╌╌╌╌┼╌╌╌╌╌┼╌╌╌╌╌╌╌╌╌┼╌╌╌╌╌╌╌╌╌┼╌╌╌╌╌╌╌╌╌┼╌╌╌╌╌╌╌╌╌┤\n",
       "│ 2.0011 ┆ 161342 ┆ 4259   ┆ 0      ┆ ... ┆ 2288071 ┆ -0.2901 ┆ 0.44602 ┆ 8.64436 │\n",
       "│ e7     ┆ 4      ┆        ┆        ┆     ┆         ┆ 54      ┆ 7       ┆ 24      │\n",
       "└────────┴────────┴────────┴────────┴─────┴─────────┴─────────┴─────────┴─────────┘"
      ]
     },
     "execution_count": 15,
     "metadata": {},
     "output_type": "execute_result"
    }
   ],
   "source": [
    "edf[1:4, \"column_4\":] # slice by row and column's name"
   ]
  },
  {
   "cell_type": "markdown",
   "id": "3b25ad49",
   "metadata": {},
   "source": [
    "Since in Pandas there is an explicit index that can be any type, not just integer and columns that can have any immutable datatype, it has to workaround several ambiguities with special functions like iloc, loc, at, iat, etc."
   ]
  },
  {
   "cell_type": "code",
   "execution_count": 16,
   "id": "e3e13aef",
   "metadata": {},
   "outputs": [],
   "source": [
    "pdf = edf.to_pandas()"
   ]
  },
  {
   "cell_type": "code",
   "execution_count": 17,
   "id": "28fde811",
   "metadata": {},
   "outputs": [
    {
     "data": {
      "text/plain": [
       "20011015.222604"
      ]
     },
     "execution_count": 17,
     "metadata": {},
     "output_type": "execute_result"
    }
   ],
   "source": [
    "pdf.iloc[1, 3]"
   ]
  },
  {
   "cell_type": "code",
   "execution_count": 18,
   "id": "5198bb44",
   "metadata": {},
   "outputs": [
    {
     "data": {
      "text/plain": [
       "20011015.222604"
      ]
     },
     "execution_count": 18,
     "metadata": {},
     "output_type": "execute_result"
    }
   ],
   "source": [
    "# when mixing indexing by integer and by string it gets less comprehensible in Pandas\n",
    "pdf[\"column_4\"].iloc[1] "
   ]
  },
  {
   "cell_type": "code",
   "execution_count": 19,
   "id": "061a0a5f",
   "metadata": {},
   "outputs": [
    {
     "data": {
      "text/plain": [
       "column_3    8.080000e+02\n",
       "column_4    2.001102e+07\n",
       "Name: 1, dtype: float64"
      ]
     },
     "execution_count": 19,
     "metadata": {},
     "output_type": "execute_result"
    }
   ],
   "source": [
    "pdf.iloc[1, [2, 3]]"
   ]
  },
  {
   "cell_type": "code",
   "execution_count": 24,
   "id": "73a51dbc",
   "metadata": {},
   "outputs": [
    {
     "data": {
      "text/html": [
       "<div>\n",
       "<style scoped>\n",
       "    .dataframe tbody tr th:only-of-type {\n",
       "        vertical-align: middle;\n",
       "    }\n",
       "\n",
       "    .dataframe tbody tr th {\n",
       "        vertical-align: top;\n",
       "    }\n",
       "\n",
       "    .dataframe thead th {\n",
       "        text-align: right;\n",
       "    }\n",
       "</style>\n",
       "<table border=\"1\" class=\"dataframe\">\n",
       "  <thead>\n",
       "    <tr style=\"text-align: right;\">\n",
       "      <th></th>\n",
       "      <th>column_4</th>\n",
       "      <th>column_5</th>\n",
       "      <th>column_6</th>\n",
       "      <th>column_7</th>\n",
       "      <th>column_8</th>\n",
       "      <th>column_9</th>\n",
       "      <th>column_10</th>\n",
       "      <th>column_11</th>\n",
       "      <th>column_12</th>\n",
       "      <th>column_13</th>\n",
       "      <th>column_14</th>\n",
       "      <th>column_15</th>\n",
       "      <th>column_16</th>\n",
       "    </tr>\n",
       "  </thead>\n",
       "  <tbody>\n",
       "    <tr>\n",
       "      <th>1</th>\n",
       "      <td>2.001102e+07</td>\n",
       "      <td>1613424</td>\n",
       "      <td>886</td>\n",
       "      <td>0</td>\n",
       "      <td>0</td>\n",
       "      <td>61</td>\n",
       "      <td>371</td>\n",
       "      <td>2.001120e+07</td>\n",
       "      <td>23.326479</td>\n",
       "      <td>2288071</td>\n",
       "      <td>-0.247330</td>\n",
       "      <td>0.455916</td>\n",
       "      <td>57.810596</td>\n",
       "    </tr>\n",
       "    <tr>\n",
       "      <th>2</th>\n",
       "      <td>2.001102e+07</td>\n",
       "      <td>1613424</td>\n",
       "      <td>638</td>\n",
       "      <td>0</td>\n",
       "      <td>0</td>\n",
       "      <td>7</td>\n",
       "      <td>121</td>\n",
       "      <td>2.001120e+07</td>\n",
       "      <td>2.444299</td>\n",
       "      <td>2288071</td>\n",
       "      <td>-0.390961</td>\n",
       "      <td>0.589534</td>\n",
       "      <td>167.757140</td>\n",
       "    </tr>\n",
       "    <tr>\n",
       "      <th>3</th>\n",
       "      <td>2.001102e+07</td>\n",
       "      <td>1613424</td>\n",
       "      <td>4259</td>\n",
       "      <td>0</td>\n",
       "      <td>0</td>\n",
       "      <td>1024</td>\n",
       "      <td>1302</td>\n",
       "      <td>2.001120e+07</td>\n",
       "      <td>9.521868</td>\n",
       "      <td>2288071</td>\n",
       "      <td>-0.290154</td>\n",
       "      <td>0.446027</td>\n",
       "      <td>8.644362</td>\n",
       "    </tr>\n",
       "  </tbody>\n",
       "</table>\n",
       "</div>"
      ],
      "text/plain": [
       "       column_4  column_5  column_6  column_7  column_8  column_9  column_10  \\\n",
       "1  2.001102e+07   1613424       886         0         0        61        371   \n",
       "2  2.001102e+07   1613424       638         0         0         7        121   \n",
       "3  2.001102e+07   1613424      4259         0         0      1024       1302   \n",
       "\n",
       "      column_11  column_12  column_13  column_14  column_15   column_16  \n",
       "1  2.001120e+07  23.326479    2288071  -0.247330   0.455916   57.810596  \n",
       "2  2.001120e+07   2.444299    2288071  -0.390961   0.589534  167.757140  \n",
       "3  2.001120e+07   9.521868    2288071  -0.290154   0.446027    8.644362  "
      ]
     },
     "execution_count": 24,
     "metadata": {},
     "output_type": "execute_result"
    }
   ],
   "source": [
    "pdf.loc[1:3, \"column_4\":]"
   ]
  },
  {
   "cell_type": "markdown",
   "id": "16f2e50e",
   "metadata": {},
   "source": [
    "# Missing Values"
   ]
  },
  {
   "cell_type": "code",
   "execution_count": 60,
   "id": "ffb47697",
   "metadata": {},
   "outputs": [
    {
     "data": {
      "text/html": [
       "<div>\n",
       "<style scoped>\n",
       "    .dataframe tbody tr th:only-of-type {\n",
       "        vertical-align: middle;\n",
       "    }\n",
       "\n",
       "    .dataframe tbody tr th {\n",
       "        vertical-align: top;\n",
       "    }\n",
       "\n",
       "    .dataframe thead th {\n",
       "        text-align: right;\n",
       "    }\n",
       "\n",
       "    .dataframe td {\n",
       "        white-space: pre;\n",
       "    }\n",
       "\n",
       "    .dataframe td {\n",
       "        padding-top: 0;\n",
       "    }\n",
       "\n",
       "    .dataframe td {\n",
       "        padding-bottom: 0;\n",
       "    }\n",
       "\n",
       "    .dataframe td {\n",
       "        line-height: 95%;\n",
       "    }\n",
       "</style>\n",
       "<table border=\"1\" class=\"dataframe\" >\n",
       "<small>shape: (3, 3)</small>\n",
       "<thead>\n",
       "<tr>\n",
       "<th>\n",
       "a\n",
       "</th>\n",
       "<th>\n",
       "b\n",
       "</th>\n",
       "<th>\n",
       "c\n",
       "</th>\n",
       "</tr>\n",
       "<tr>\n",
       "<td>\n",
       "i64\n",
       "</td>\n",
       "<td>\n",
       "str\n",
       "</td>\n",
       "<td>\n",
       "i64\n",
       "</td>\n",
       "</tr>\n",
       "</thead>\n",
       "<tbody>\n",
       "<tr>\n",
       "<td>\n",
       "1\n",
       "</td>\n",
       "<td>\n",
       "null\n",
       "</td>\n",
       "<td>\n",
       "42\n",
       "</td>\n",
       "</tr>\n",
       "<tr>\n",
       "<td>\n",
       "2\n",
       "</td>\n",
       "<td>\n",
       "&quot;b&quot;\n",
       "</td>\n",
       "<td>\n",
       "69\n",
       "</td>\n",
       "</tr>\n",
       "<tr>\n",
       "<td>\n",
       "3\n",
       "</td>\n",
       "<td>\n",
       "&quot;c&quot;\n",
       "</td>\n",
       "<td>\n",
       "null\n",
       "</td>\n",
       "</tr>\n",
       "</tbody>\n",
       "</table>\n",
       "</div>"
      ],
      "text/plain": [
       "shape: (3, 3)\n",
       "┌─────┬──────┬──────┐\n",
       "│ a   ┆ b    ┆ c    │\n",
       "│ --- ┆ ---  ┆ ---  │\n",
       "│ i64 ┆ str  ┆ i64  │\n",
       "╞═════╪══════╪══════╡\n",
       "│ 1   ┆ null ┆ 42   │\n",
       "├╌╌╌╌╌┼╌╌╌╌╌╌┼╌╌╌╌╌╌┤\n",
       "│ 2   ┆ b    ┆ 69   │\n",
       "├╌╌╌╌╌┼╌╌╌╌╌╌┼╌╌╌╌╌╌┤\n",
       "│ 3   ┆ c    ┆ null │\n",
       "└─────┴──────┴──────┘"
      ]
     },
     "execution_count": 60,
     "metadata": {},
     "output_type": "execute_result"
    }
   ],
   "source": [
    "left_df = pl.DataFrame({\"a\": [1, 2, 3], \"b\": [None, \"b\", \"c\"]})\n",
    "right_df = pl.DataFrame({\"a\": [1, 2], \"c\": [42, 69]})\n",
    "\n",
    "df = left_df.join(right_df, on=\"a\", how=\"left\")\n",
    "df"
   ]
  },
  {
   "cell_type": "markdown",
   "id": "ac273ab4",
   "metadata": {},
   "source": [
    "Note that the last element of the c column is null, not NaN as in Pandas, and the datatype is still int and not automatically converted to float as in Pandas."
   ]
  },
  {
   "cell_type": "markdown",
   "id": "3ab61501",
   "metadata": {},
   "source": [
    "Pandas does something pretty scary here \\\n",
    "Note that \"c\"-column has type int:"
   ]
  },
  {
   "cell_type": "code",
   "execution_count": 35,
   "id": "b9e0af69",
   "metadata": {},
   "outputs": [
    {
     "data": {
      "text/plain": [
       "a    int64\n",
       "c    int64\n",
       "dtype: object"
      ]
     },
     "execution_count": 35,
     "metadata": {},
     "output_type": "execute_result"
    }
   ],
   "source": [
    "left_pdf = left_df.to_pandas()\n",
    "right_pdf = right_df.to_pandas()\n",
    "right_pdf.dtypes"
   ]
  },
  {
   "cell_type": "code",
   "execution_count": 56,
   "id": "d0f49560",
   "metadata": {},
   "outputs": [
    {
     "data": {
      "text/html": [
       "<div>\n",
       "<style scoped>\n",
       "    .dataframe tbody tr th:only-of-type {\n",
       "        vertical-align: middle;\n",
       "    }\n",
       "\n",
       "    .dataframe tbody tr th {\n",
       "        vertical-align: top;\n",
       "    }\n",
       "\n",
       "    .dataframe thead th {\n",
       "        text-align: right;\n",
       "    }\n",
       "</style>\n",
       "<table border=\"1\" class=\"dataframe\">\n",
       "  <thead>\n",
       "    <tr style=\"text-align: right;\">\n",
       "      <th></th>\n",
       "      <th>a</th>\n",
       "      <th>b</th>\n",
       "      <th>c</th>\n",
       "    </tr>\n",
       "  </thead>\n",
       "  <tbody>\n",
       "    <tr>\n",
       "      <th>0</th>\n",
       "      <td>1</td>\n",
       "      <td>None</td>\n",
       "      <td>42.0</td>\n",
       "    </tr>\n",
       "    <tr>\n",
       "      <th>1</th>\n",
       "      <td>2</td>\n",
       "      <td>b</td>\n",
       "      <td>69.0</td>\n",
       "    </tr>\n",
       "    <tr>\n",
       "      <th>2</th>\n",
       "      <td>3</td>\n",
       "      <td>c</td>\n",
       "      <td>NaN</td>\n",
       "    </tr>\n",
       "  </tbody>\n",
       "</table>\n",
       "</div>"
      ],
      "text/plain": [
       "   a     b     c\n",
       "0  1  None  42.0\n",
       "1  2     b  69.0\n",
       "2  3     c   NaN"
      ]
     },
     "execution_count": 56,
     "metadata": {},
     "output_type": "execute_result"
    }
   ],
   "source": [
    "pdf = pd.merge(left_pdf, right_pdf, on=\"a\", how=\"left\")\n",
    "pdf"
   ]
  },
  {
   "cell_type": "markdown",
   "id": "5f51bff6",
   "metadata": {},
   "source": [
    "# Column Expressions"
   ]
  },
  {
   "cell_type": "code",
   "execution_count": 37,
   "id": "9c044636",
   "metadata": {},
   "outputs": [
    {
     "data": {
      "text/html": [
       "<div>\n",
       "<style scoped>\n",
       "    .dataframe tbody tr th:only-of-type {\n",
       "        vertical-align: middle;\n",
       "    }\n",
       "\n",
       "    .dataframe tbody tr th {\n",
       "        vertical-align: top;\n",
       "    }\n",
       "\n",
       "    .dataframe thead th {\n",
       "        text-align: right;\n",
       "    }\n",
       "\n",
       "    .dataframe td {\n",
       "        white-space: pre;\n",
       "    }\n",
       "\n",
       "    .dataframe td {\n",
       "        padding-top: 0;\n",
       "    }\n",
       "\n",
       "    .dataframe td {\n",
       "        padding-bottom: 0;\n",
       "    }\n",
       "\n",
       "    .dataframe td {\n",
       "        line-height: 95%;\n",
       "    }\n",
       "</style>\n",
       "<table border=\"1\" class=\"dataframe\" >\n",
       "<small>shape: (5, 4)</small>\n",
       "<thead>\n",
       "<tr>\n",
       "<th>\n",
       "nrs\n",
       "</th>\n",
       "<th>\n",
       "names\n",
       "</th>\n",
       "<th>\n",
       "random\n",
       "</th>\n",
       "<th>\n",
       "groups\n",
       "</th>\n",
       "</tr>\n",
       "<tr>\n",
       "<td>\n",
       "i64\n",
       "</td>\n",
       "<td>\n",
       "str\n",
       "</td>\n",
       "<td>\n",
       "f64\n",
       "</td>\n",
       "<td>\n",
       "str\n",
       "</td>\n",
       "</tr>\n",
       "</thead>\n",
       "<tbody>\n",
       "<tr>\n",
       "<td>\n",
       "1\n",
       "</td>\n",
       "<td>\n",
       "&quot;foo&quot;\n",
       "</td>\n",
       "<td>\n",
       "0.330487\n",
       "</td>\n",
       "<td>\n",
       "&quot;A&quot;\n",
       "</td>\n",
       "</tr>\n",
       "<tr>\n",
       "<td>\n",
       "2\n",
       "</td>\n",
       "<td>\n",
       "&quot;ham&quot;\n",
       "</td>\n",
       "<td>\n",
       "0.538228\n",
       "</td>\n",
       "<td>\n",
       "&quot;A&quot;\n",
       "</td>\n",
       "</tr>\n",
       "<tr>\n",
       "<td>\n",
       "3\n",
       "</td>\n",
       "<td>\n",
       "&quot;spam&quot;\n",
       "</td>\n",
       "<td>\n",
       "0.030938\n",
       "</td>\n",
       "<td>\n",
       "&quot;B&quot;\n",
       "</td>\n",
       "</tr>\n",
       "<tr>\n",
       "<td>\n",
       "null\n",
       "</td>\n",
       "<td>\n",
       "&quot;egg&quot;\n",
       "</td>\n",
       "<td>\n",
       "0.545556\n",
       "</td>\n",
       "<td>\n",
       "&quot;C&quot;\n",
       "</td>\n",
       "</tr>\n",
       "<tr>\n",
       "<td>\n",
       "5\n",
       "</td>\n",
       "<td>\n",
       "null\n",
       "</td>\n",
       "<td>\n",
       "0.29049\n",
       "</td>\n",
       "<td>\n",
       "&quot;B&quot;\n",
       "</td>\n",
       "</tr>\n",
       "</tbody>\n",
       "</table>\n",
       "</div>"
      ],
      "text/plain": [
       "shape: (5, 4)\n",
       "┌──────┬───────┬──────────┬────────┐\n",
       "│ nrs  ┆ names ┆ random   ┆ groups │\n",
       "│ ---  ┆ ---   ┆ ---      ┆ ---    │\n",
       "│ i64  ┆ str   ┆ f64      ┆ str    │\n",
       "╞══════╪═══════╪══════════╪════════╡\n",
       "│ 1    ┆ foo   ┆ 0.330487 ┆ A      │\n",
       "├╌╌╌╌╌╌┼╌╌╌╌╌╌╌┼╌╌╌╌╌╌╌╌╌╌┼╌╌╌╌╌╌╌╌┤\n",
       "│ 2    ┆ ham   ┆ 0.538228 ┆ A      │\n",
       "├╌╌╌╌╌╌┼╌╌╌╌╌╌╌┼╌╌╌╌╌╌╌╌╌╌┼╌╌╌╌╌╌╌╌┤\n",
       "│ 3    ┆ spam  ┆ 0.030938 ┆ B      │\n",
       "├╌╌╌╌╌╌┼╌╌╌╌╌╌╌┼╌╌╌╌╌╌╌╌╌╌┼╌╌╌╌╌╌╌╌┤\n",
       "│ null ┆ egg   ┆ 0.545556 ┆ C      │\n",
       "├╌╌╌╌╌╌┼╌╌╌╌╌╌╌┼╌╌╌╌╌╌╌╌╌╌┼╌╌╌╌╌╌╌╌┤\n",
       "│ 5    ┆ null  ┆ 0.29049  ┆ B      │\n",
       "└──────┴───────┴──────────┴────────┘"
      ]
     },
     "execution_count": 37,
     "metadata": {},
     "output_type": "execute_result"
    }
   ],
   "source": [
    "df = pl.DataFrame(\n",
    "    {\n",
    "        \"nrs\": [1, 2, 3, None, 5],\n",
    "        \"names\": [\"foo\", \"ham\", \"spam\", \"egg\", None],\n",
    "        \"random\": np.random.rand(5),\n",
    "        \"groups\": [\"A\", \"A\", \"B\", \"C\", \"B\"],\n",
    "    }\n",
    ")\n",
    "df"
   ]
  },
  {
   "cell_type": "code",
   "execution_count": 38,
   "id": "116aaee7",
   "metadata": {},
   "outputs": [
    {
     "data": {
      "text/html": [
       "<div>\n",
       "<style scoped>\n",
       "    .dataframe tbody tr th:only-of-type {\n",
       "        vertical-align: middle;\n",
       "    }\n",
       "\n",
       "    .dataframe tbody tr th {\n",
       "        vertical-align: top;\n",
       "    }\n",
       "\n",
       "    .dataframe thead th {\n",
       "        text-align: right;\n",
       "    }\n",
       "\n",
       "    .dataframe td {\n",
       "        white-space: pre;\n",
       "    }\n",
       "\n",
       "    .dataframe td {\n",
       "        padding-top: 0;\n",
       "    }\n",
       "\n",
       "    .dataframe td {\n",
       "        padding-bottom: 0;\n",
       "    }\n",
       "\n",
       "    .dataframe td {\n",
       "        line-height: 95%;\n",
       "    }\n",
       "</style>\n",
       "<table border=\"1\" class=\"dataframe\" >\n",
       "<small>shape: (5, 1)</small>\n",
       "<thead>\n",
       "<tr>\n",
       "<th>\n",
       "result\n",
       "</th>\n",
       "</tr>\n",
       "<tr>\n",
       "<td>\n",
       "f64\n",
       "</td>\n",
       "</tr>\n",
       "</thead>\n",
       "<tbody>\n",
       "<tr>\n",
       "<td>\n",
       "3.635353\n",
       "</td>\n",
       "</tr>\n",
       "<tr>\n",
       "<td>\n",
       "0.0\n",
       "</td>\n",
       "</tr>\n",
       "<tr>\n",
       "<td>\n",
       "0.340313\n",
       "</td>\n",
       "</tr>\n",
       "<tr>\n",
       "<td>\n",
       "0.0\n",
       "</td>\n",
       "</tr>\n",
       "<tr>\n",
       "<td>\n",
       "3.195389\n",
       "</td>\n",
       "</tr>\n",
       "</tbody>\n",
       "</table>\n",
       "</div>"
      ],
      "text/plain": [
       "shape: (5, 1)\n",
       "┌──────────┐\n",
       "│ result   │\n",
       "│ ---      │\n",
       "│ f64      │\n",
       "╞══════════╡\n",
       "│ 3.635353 │\n",
       "├╌╌╌╌╌╌╌╌╌╌┤\n",
       "│ 0.0      │\n",
       "├╌╌╌╌╌╌╌╌╌╌┤\n",
       "│ 0.340313 │\n",
       "├╌╌╌╌╌╌╌╌╌╌┤\n",
       "│ 0.0      │\n",
       "├╌╌╌╌╌╌╌╌╌╌┤\n",
       "│ 3.195389 │\n",
       "└──────────┘"
      ]
     },
     "execution_count": 38,
     "metadata": {},
     "output_type": "execute_result"
    }
   ],
   "source": [
    "# To select the columns when randome is greater than 0.5 then 0 otherwise random * nrs\n",
    "# All expressions in Polars are parallel by design\n",
    "df.select(\n",
    "    [\n",
    "        (pl.sum(\"nrs\") * pl.when(col(\"random\") > 0.5)\n",
    "                           .then(0)\n",
    "                           .otherwise(col(\"random\"))\n",
    "        ).alias(\"result\")\n",
    "    ]\n",
    ")"
   ]
  },
  {
   "cell_type": "code",
   "execution_count": 39,
   "id": "481c7e2b",
   "metadata": {},
   "outputs": [
    {
     "data": {
      "text/html": [
       "<div>\n",
       "<style scoped>\n",
       "    .dataframe tbody tr th:only-of-type {\n",
       "        vertical-align: middle;\n",
       "    }\n",
       "\n",
       "    .dataframe tbody tr th {\n",
       "        vertical-align: top;\n",
       "    }\n",
       "\n",
       "    .dataframe thead th {\n",
       "        text-align: right;\n",
       "    }\n",
       "</style>\n",
       "<table border=\"1\" class=\"dataframe\">\n",
       "  <thead>\n",
       "    <tr style=\"text-align: right;\">\n",
       "      <th></th>\n",
       "      <th>result</th>\n",
       "    </tr>\n",
       "  </thead>\n",
       "  <tbody>\n",
       "    <tr>\n",
       "      <th>0</th>\n",
       "      <td>3.635353</td>\n",
       "    </tr>\n",
       "    <tr>\n",
       "      <th>1</th>\n",
       "      <td>0.000000</td>\n",
       "    </tr>\n",
       "    <tr>\n",
       "      <th>2</th>\n",
       "      <td>0.340313</td>\n",
       "    </tr>\n",
       "    <tr>\n",
       "      <th>3</th>\n",
       "      <td>0.000000</td>\n",
       "    </tr>\n",
       "    <tr>\n",
       "      <th>4</th>\n",
       "      <td>3.195389</td>\n",
       "    </tr>\n",
       "  </tbody>\n",
       "</table>\n",
       "</div>"
      ],
      "text/plain": [
       "     result\n",
       "0  3.635353\n",
       "1  0.000000\n",
       "2  0.340313\n",
       "3  0.000000\n",
       "4  3.195389"
      ]
     },
     "execution_count": 39,
     "metadata": {},
     "output_type": "execute_result"
    }
   ],
   "source": [
    "# SQL-like when/then/otherwise statements are not possible in Pandas, thus we have to use np.where\n",
    "pdf = df.to_pandas()\n",
    "pd.Series(\n",
    "    np.where(pdf[\"random\"] > 0.5, 0, pdf[\"random\"] * pdf[\"nrs\"].sum()), name=\"result\"\n",
    ").to_frame()"
   ]
  },
  {
   "cell_type": "markdown",
   "id": "1828b13d",
   "metadata": {},
   "source": [
    "# Groupby"
   ]
  },
  {
   "cell_type": "code",
   "execution_count": null,
   "id": "b5e7135c",
   "metadata": {},
   "outputs": [],
   "source": [
    "df = pl.read_csv(\"https://theunitedstates.io/congress-legislators/legislators-current.csv\")\n",
    "pdf = df.to_pandas()"
   ]
  },
  {
   "cell_type": "code",
   "execution_count": null,
   "id": "8344489a",
   "metadata": {},
   "outputs": [],
   "source": [
    "pdf"
   ]
  },
  {
   "cell_type": "markdown",
   "id": "a9b22ed6",
   "metadata": {},
   "source": [
    "Note how easily we can deal with lists of strings by aggregating over gender using list().\n",
    "\n",
    "In Pandas the same operation feels more like string hacking and renaming happens as a separate step having unnecessary repetitions of the column names. Everything is of course eagerly evaluated."
   ]
  },
  {
   "cell_type": "code",
   "execution_count": null,
   "id": "378afeba",
   "metadata": {},
   "outputs": [],
   "source": [
    "(df.lazy()  # allows for working only on a subset using limit\n",
    "   .groupby(\"first_name\")\n",
    "   .agg(\n",
    "       [\n",
    "           col(\"party\").count().alias(\"n_party\"),  # renaming an aggregated column is a bliss\n",
    "           col(\"gender\").list(),\n",
    "           col(\"last_name\").first(),\n",
    "       ]\n",
    "   )\n",
    "   .sort(\"n_party\", reverse=True)\n",
    "   .limit(5)\n",
    "   .collect()\n",
    ")"
   ]
  },
  {
   "cell_type": "code",
   "execution_count": null,
   "id": "bb0d6b44",
   "metadata": {},
   "outputs": [],
   "source": [
    "(pdf.groupby(\"first_name\")\n",
    "    .agg({\"party\": \"count\", \n",
    "          \"gender\": lambda grp: grp.to_list(), \n",
    "          \"last_name\": \"first\"})\n",
    "    .rename(columns={\"party\": \"n_party\", \n",
    "                     \"gender\": \"gender_agg_list\", \n",
    "                     \"last_name\": \"last_name_first\"})\n",
    "    .sort_values(by=\"n_party\", ascending=False)\n",
    "    .reset_index()\n",
    "    .head(5))"
   ]
  },
  {
   "cell_type": "code",
   "execution_count": null,
   "id": "7ae3def1",
   "metadata": {},
   "outputs": [],
   "source": []
  }
 ],
 "metadata": {
  "kernelspec": {
   "display_name": "Python 3",
   "language": "python",
   "name": "python3"
  },
  "language_info": {
   "codemirror_mode": {
    "name": "ipython",
    "version": 3
   },
   "file_extension": ".py",
   "mimetype": "text/x-python",
   "name": "python",
   "nbconvert_exporter": "python",
   "pygments_lexer": "ipython3",
   "version": "3.8.8"
  }
 },
 "nbformat": 4,
 "nbformat_minor": 5
}
