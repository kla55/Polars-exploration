{
 "cells": [
  {
   "cell_type": "code",
   "execution_count": 1,
   "id": "b7eaa54e",
   "metadata": {},
   "outputs": [],
   "source": [
    "import pandas as pd\n",
    "import numpy as np"
   ]
  },
  {
   "cell_type": "code",
   "execution_count": 2,
   "id": "b5a90746",
   "metadata": {},
   "outputs": [],
   "source": [
    "# Create a DataFrame with two int64, two float64 and one int32 column.\n",
    "\n",
    "df = pd.DataFrame({\n",
    "    'int64_1': np.array([1, 2, 3], dtype=np.int64),\n",
    "    'int64_2': np.array([10, 20, 30], dtype=np.int64),\n",
    "    'int32_1': np.array([9, 8, 7], dtype=np.int32),\n",
    "    'float64_1': np.array([.1, .5, .7], dtype=np.float64)\n",
    "})"
   ]
  },
  {
   "cell_type": "code",
   "execution_count": 3,
   "id": "d6beb671",
   "metadata": {},
   "outputs": [
    {
     "data": {
      "text/plain": [
       "(3,)"
      ]
     },
     "execution_count": 3,
     "metadata": {},
     "output_type": "execute_result"
    }
   ],
   "source": [
    "df['int64_1'].values\n",
    "# > array([1, 2, 3])\n",
    "type(df['int64_1'].values)\n",
    "# > numpy.ndarray\n",
    "df['int64_1'].values.shape\n",
    "# > (3,)\n",
    "df['int64_2'].values\n",
    "# > array([10, 20, 30])\n",
    "type(df['int64_2'].values)\n",
    "# > numpy.ndarray\n",
    "df['int64_2'].values.shape\n",
    "# > (3,)"
   ]
  },
  {
   "cell_type": "code",
   "execution_count": 4,
   "id": "998ac86b",
   "metadata": {},
   "outputs": [
    {
     "data": {
      "text/plain": [
       "BlockManager\n",
       "Items: Index(['int64_1', 'int64_2', 'int32_1', 'float64_1'], dtype='object')\n",
       "Axis 1: RangeIndex(start=0, stop=3, step=1)\n",
       "FloatBlock: slice(3, 4, 1), 1 x 3, dtype: float64\n",
       "IntBlock: slice(0, 2, 1), 2 x 3, dtype: int64\n",
       "IntBlock: slice(2, 3, 1), 1 x 3, dtype: int32"
      ]
     },
     "execution_count": 4,
     "metadata": {},
     "output_type": "execute_result"
    }
   ],
   "source": [
    "df._data"
   ]
  },
  {
   "cell_type": "code",
   "execution_count": 5,
   "id": "458cc612",
   "metadata": {},
   "outputs": [
    {
     "name": "stdout",
     "output_type": "stream",
     "text": [
      "618 ms ± 10.8 ms per loop (mean ± std. dev. of 7 runs, 1 loop each)\n",
      "150 ms ± 26.2 ms per loop (mean ± std. dev. of 7 runs, 1 loop each)\n"
     ]
    }
   ],
   "source": [
    "# Create individual \"columns\"\n",
    "a1 = np.arange(128 * 1024 * 1024)\n",
    "a2 = np.arange(128 * 1024 * 1024)\n",
    "\n",
    "# Block them together in a single array\n",
    "a_both = np.empty((2, a1.shape[0]))\n",
    "a_both[0, :] = a1\n",
    "a_both[1, :] = a2\n",
    "\n",
    "# Compare the performance of array-with-array and within-array operation.\n",
    "%timeit a1 + a2\n",
    "%timeit np.sum(a_both, axis=1)\n"
   ]
  },
  {
   "cell_type": "code",
   "execution_count": null,
   "id": "faaf1f13",
   "metadata": {},
   "outputs": [],
   "source": []
  }
 ],
 "metadata": {
  "kernelspec": {
   "display_name": "Python 3",
   "language": "python",
   "name": "python3"
  },
  "language_info": {
   "codemirror_mode": {
    "name": "ipython",
    "version": 3
   },
   "file_extension": ".py",
   "mimetype": "text/x-python",
   "name": "python",
   "nbconvert_exporter": "python",
   "pygments_lexer": "ipython3",
   "version": "3.8.8"
  }
 },
 "nbformat": 4,
 "nbformat_minor": 5
}
