{
 "cells": [
  {
   "cell_type": "code",
   "execution_count": 3,
   "id": "7a4b6a1a",
   "metadata": {},
   "outputs": [],
   "source": [
    "from datetime import datetime\n",
    "import numpy as np\n",
    "import polars as pl\n",
    "from pathlib import Path\n",
    "from polars import col, lit\n",
    "import pandas as pd\n",
    "import time\n",
    "from pandas.io.common import get_handle"
   ]
  },
  {
   "cell_type": "code",
   "execution_count": 4,
   "id": "12e7d81a",
   "metadata": {},
   "outputs": [
    {
     "data": {
      "text/plain": [
       "'1.5.2'"
      ]
     },
     "execution_count": 4,
     "metadata": {},
     "output_type": "execute_result"
    }
   ],
   "source": [
    "pd.__version__"
   ]
  },
  {
   "cell_type": "code",
   "execution_count": 5,
   "id": "0847d2af",
   "metadata": {},
   "outputs": [
    {
     "data": {
      "text/plain": [
       "'0.14.28'"
      ]
     },
     "execution_count": 5,
     "metadata": {},
     "output_type": "execute_result"
    }
   ],
   "source": [
    "pl.__version__"
   ]
  },
  {
   "cell_type": "code",
   "execution_count": 6,
   "id": "2c3fd2fd",
   "metadata": {},
   "outputs": [],
   "source": [
    "# Download a huge csv as a test. Takes a while and only needed once...\n",
    "big_csv = Path(\"./big.csv\")\n",
    "csv_url = \"http://sdm.lbl.gov/fastbit/data/star2002-full.csv.gz\"\n",
    "\n",
    "# Obtains the path for big_csv, this file of moderate size 15,857,624 rows and 16 columns\n",
    "if not big_csv.exists():\n",
    "    with get_handle(csv_url, compression=\"gzip\", mode=\"r\") as fh_in, open(big_csv, \"bw\") as fh_out:\n",
    "        fh_out.write(fh_in.handle.buffer.read())"
   ]
  },
  {
   "cell_type": "markdown",
   "id": "a27a5e8f",
   "metadata": {},
   "source": [
    "# Load Data:"
   ]
  },
  {
   "cell_type": "code",
   "execution_count": 7,
   "id": "cd08f5bc",
   "metadata": {},
   "outputs": [
    {
     "name": "stdout",
     "output_type": "stream",
     "text": [
      "Pandas Loading Time = 36.55296516418457\n"
     ]
    }
   ],
   "source": [
    "s = time.time()\n",
    "df_pandas = pd.read_csv(big_csv, header=None)\n",
    "e = time.time()\n",
    "pd_time = e - s\n",
    "print(\"Pandas Loading Time = {}\".format(pd_time))"
   ]
  },
  {
   "cell_type": "code",
   "execution_count": 8,
   "id": "8e3fbd9c",
   "metadata": {},
   "outputs": [
    {
     "name": "stdout",
     "output_type": "stream",
     "text": [
      "PyPolars Loading Time = 10.709691047668457\n"
     ]
    }
   ],
   "source": [
    "s = time.time()\n",
    "df_pypolars = pl.read_csv(big_csv, has_header=False)\n",
    "e = time.time()\n",
    "pl_time = e - s \n",
    "print(\"PyPolars Loading Time = {}\".format(pl_time))"
   ]
  },
  {
   "cell_type": "markdown",
   "id": "e8cba810",
   "metadata": {},
   "source": [
    "# Filter:"
   ]
  },
  {
   "cell_type": "code",
   "execution_count": 27,
   "id": "8630b952",
   "metadata": {},
   "outputs": [
    {
     "name": "stdout",
     "output_type": "stream",
     "text": [
      "Pandas Filter Time = 6.666182994842529\n"
     ]
    }
   ],
   "source": [
    "s = time.time()\n",
    "temp = df_pandas[df_pandas[5]>500]\n",
    "e = time.time()\n",
    "pd_time = e - s\n",
    "print(\"Pandas Filter Time = {}\".format(pd_time))"
   ]
  },
  {
   "cell_type": "code",
   "execution_count": 25,
   "id": "46c6c2ff",
   "metadata": {},
   "outputs": [
    {
     "name": "stdout",
     "output_type": "stream",
     "text": [
      "PyPolars Filter Time = 1.117527723312378\n"
     ]
    }
   ],
   "source": [
    "s = time.time()\n",
    "temp = df_pypolars.filter(pl.col(\"column_6\") > 500)\n",
    "e = time.time()\n",
    "pl_time = e - s \n",
    "print(\"PyPolars Filter Time = {}\".format(pl_time))"
   ]
  },
  {
   "cell_type": "markdown",
   "id": "398b9dd7",
   "metadata": {},
   "source": [
    "# Groupby:"
   ]
  },
  {
   "cell_type": "code",
   "execution_count": 30,
   "id": "b3d1fd2c",
   "metadata": {},
   "outputs": [
    {
     "name": "stdout",
     "output_type": "stream",
     "text": [
      "Pandas GroupBy Time = 0.9216609001159668\n"
     ]
    }
   ],
   "source": [
    "s = time.time()\n",
    "temp = df_pandas.groupby(by=0).agg({2:np.sum, 3:np.mean})\n",
    "e = time.time()\n",
    "pd_time = e - s\n",
    "print(\"Pandas GroupBy Time = {}\".format(pd_time))"
   ]
  },
  {
   "cell_type": "code",
   "execution_count": 38,
   "id": "f15ce09c",
   "metadata": {},
   "outputs": [
    {
     "name": "stdout",
     "output_type": "stream",
     "text": [
      "PyPolars GroupBy Time = 0.19597697257995605\n"
     ]
    }
   ],
   "source": [
    "s = time.time()\n",
    "q = (\n",
    "    df_pypolars\n",
    "    .lazy()\n",
    "    .groupby(by='column_1')\n",
    "    .agg(\n",
    "        [\n",
    "        pl.col('column_3').sum(),\n",
    "        pl.col('column_4').mean()\n",
    "        ]\n",
    "    )\n",
    ")\n",
    "q.collect()\n",
    "e = time.time()\n",
    "pd_time = e - s\n",
    "print(\"PyPolars GroupBy Time = {}\".format(pd_time))\n"
   ]
  },
  {
   "cell_type": "markdown",
   "id": "6dfe57e4",
   "metadata": {},
   "source": [
    "# Describe:"
   ]
  },
  {
   "cell_type": "code",
   "execution_count": 40,
   "id": "997b0539",
   "metadata": {},
   "outputs": [
    {
     "name": "stdout",
     "output_type": "stream",
     "text": [
      "Pandas Describe Time = 19.44732904434204\n"
     ]
    }
   ],
   "source": [
    "s = time.time()\n",
    "temp = df_pandas.describe()\n",
    "e = time.time()\n",
    "pd_time = e - s\n",
    "print(\"Pandas Describe Time = {}\".format(pd_time))"
   ]
  },
  {
   "cell_type": "markdown",
   "id": "373a8b25",
   "metadata": {},
   "source": [
    "There is no describe method in Polars so we need to rely on on transforming polars dataframe into a pandas df then apply the describe method."
   ]
  },
  {
   "cell_type": "code",
   "execution_count": 46,
   "id": "c80d9aa5",
   "metadata": {},
   "outputs": [
    {
     "name": "stdout",
     "output_type": "stream",
     "text": [
      "PyPolars Describe Time = 20.313318014144897\n"
     ]
    }
   ],
   "source": [
    "s = time.time()\n",
    "temp = df_pypolars[df_pypolars.columns].to_pandas().describe()\n",
    "e = time.time()\n",
    "pd_time = e - s\n",
    "print(\"PyPolars Describe Time = {}\".format(pd_time))"
   ]
  },
  {
   "cell_type": "markdown",
   "id": "5d31dee2",
   "metadata": {},
   "source": [
    "# Uniques:"
   ]
  },
  {
   "cell_type": "code",
   "execution_count": 61,
   "id": "4b9a1402",
   "metadata": {},
   "outputs": [
    {
     "name": "stdout",
     "output_type": "stream",
     "text": [
      "Pandas Unique Time = 0.5552530288696289\n"
     ]
    }
   ],
   "source": [
    "s = time.time()\n",
    "temp = df_pandas[5].unique()\n",
    "e = time.time()\n",
    "pd_time = e - s\n",
    "print(\"Pandas Unique Time = {}\".format(pd_time))"
   ]
  },
  {
   "cell_type": "code",
   "execution_count": 60,
   "id": "9e57c64a",
   "metadata": {},
   "outputs": [
    {
     "name": "stdout",
     "output_type": "stream",
     "text": [
      "PyPolars Unique Time = 0.2614939212799072\n"
     ]
    }
   ],
   "source": [
    "s = time.time()\n",
    "temp = df_pypolars['column_6'].unique()\n",
    "e = time.time()\n",
    "pd_time = e - s\n",
    "print(\"PyPolars Unique Time = {}\".format(pd_time))"
   ]
  },
  {
   "cell_type": "markdown",
   "id": "d86515a1",
   "metadata": {},
   "source": [
    "# Saving:"
   ]
  },
  {
   "cell_type": "code",
   "execution_count": 53,
   "id": "4bb660b2",
   "metadata": {},
   "outputs": [
    {
     "name": "stdout",
     "output_type": "stream",
     "text": [
      "Pandas Saving Time = 144.83919620513916\n"
     ]
    }
   ],
   "source": [
    "s = time.time()\n",
    "df_pandas.to_csv(\"temp_table.csv\", index=False)\n",
    "e = time.time()\n",
    "pd_time = e - s\n",
    "print(\"Pandas Saving Time = {}\".format(pd_time))"
   ]
  },
  {
   "cell_type": "code",
   "execution_count": 55,
   "id": "474ad3e7",
   "metadata": {},
   "outputs": [
    {
     "name": "stdout",
     "output_type": "stream",
     "text": [
      "PyPolars Saving Time = 13.505635261535645\n"
     ]
    }
   ],
   "source": [
    "s = time.time()\n",
    "df_pypolars.write_csv(\"temp_table.csv\")\n",
    "e = time.time()\n",
    "pd_time = e - s\n",
    "print(\"PyPolars Saving Time = {}\".format(pd_time))"
   ]
  },
  {
   "cell_type": "code",
   "execution_count": null,
   "id": "4ad9f29f",
   "metadata": {},
   "outputs": [],
   "source": []
  }
 ],
 "metadata": {
  "kernelspec": {
   "display_name": "Python 3",
   "language": "python",
   "name": "python3"
  },
  "language_info": {
   "codemirror_mode": {
    "name": "ipython",
    "version": 3
   },
   "file_extension": ".py",
   "mimetype": "text/x-python",
   "name": "python",
   "nbconvert_exporter": "python",
   "pygments_lexer": "ipython3",
   "version": "3.8.8"
  }
 },
 "nbformat": 4,
 "nbformat_minor": 5
}
